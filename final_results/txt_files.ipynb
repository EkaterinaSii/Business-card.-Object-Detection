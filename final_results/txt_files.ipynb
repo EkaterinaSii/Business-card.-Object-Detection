{
 "cells": [
  {
   "cell_type": "code",
   "execution_count": 4,
   "id": "5c4566a7-1f4a-4c8d-adc1-0f9791521fcf",
   "metadata": {},
   "outputs": [],
   "source": [
    "with open(\"val.txt\",\"w\") as file1:\n",
    "    for i in range(490,700):\n",
    "        file1.write(f\"/home/user/business/images/valid/00{i}.jpg \\n\")"
   ]
  },
  {
   "cell_type": "code",
   "execution_count": 3,
   "id": "d462dcb4-d44b-467d-bfc0-f159a6be9f35",
   "metadata": {},
   "outputs": [],
   "source": [
    "with open(\"labels.txt\",\"w\") as file2:\n",
    "    for i in range(490):\n",
    "        file2.write(f\"/home/user/business/labels/train/00{i}.txt \\n\")"
   ]
  },
  {
   "cell_type": "code",
   "execution_count": 5,
   "id": "d2ef64d2-aca3-497f-8d87-c00046b707cb",
   "metadata": {},
   "outputs": [],
   "source": [
    "with open(\"val_labels.txt\",\"w\") as file1:\n",
    "    for i in range(490,700):\n",
    "        file1.write(f\"/home/user/business/labels/valid/00{i}.txt \\n\")"
   ]
  },
  {
   "cell_type": "code",
   "execution_count": 2,
   "id": "9e6713c4-87b4-4b25-a67d-f9d7179a4073",
   "metadata": {},
   "outputs": [],
   "source": [
    "with open(\"train.txt\",\"w\") as file1:\n",
    "    for i in range(490):\n",
    "        file1.write(f\"/home/user/business/images/train/00{i}.jpg \\n\")"
   ]
  },
  {
   "cell_type": "code",
   "execution_count": 1,
   "id": "ef58b5df-ab25-49d6-aa49-831584dfe7e5",
   "metadata": {},
   "outputs": [],
   "source": [
    "with open(\"test.txt\",\"w\") as file3:\n",
    "    for i in range(490,700):\n",
    "        file3.write(f\"/home/user/business/images/test/00{i}.jpg \\n\")"
   ]
  },
  {
   "cell_type": "code",
   "execution_count": 39,
   "id": "868b71eb-c3e9-4e13-91bf-699f549bb442",
   "metadata": {},
   "outputs": [
    {
     "data": {
      "text/plain": [
       "[]"
      ]
     },
     "execution_count": 39,
     "metadata": {},
     "output_type": "execute_result"
    }
   ],
   "source": [
    "numbers = [num for num in range(700)]\n",
    "\n",
    "only_numbers_names = []\n",
    "for i in all_names:\n",
    "    i = i.replace(\"img_\",\"\")\n",
    "    i = i.replace(\".txt\",\"\")\n",
    "    i = int(i)\n",
    "    only_numbers_names.append(i)\n",
    "\n",
    "#print(only_numbers_names)\n",
    "\n",
    "list(set(numbers) - set(only_numbers_names))"
   ]
  }
 ],
 "metadata": {
  "kernelspec": {
   "display_name": "Python 3 (ipykernel)",
   "language": "python",
   "name": "python3"
  },
  "language_info": {
   "codemirror_mode": {
    "name": "ipython",
    "version": 3
   },
   "file_extension": ".py",
   "mimetype": "text/x-python",
   "name": "python",
   "nbconvert_exporter": "python",
   "pygments_lexer": "ipython3",
   "version": "3.8.10"
  }
 },
 "nbformat": 4,
 "nbformat_minor": 5
}
